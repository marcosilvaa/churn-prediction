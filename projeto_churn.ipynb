{
 "cells": [
  {
   "cell_type": "markdown",
   "metadata": {},
   "source": [
    "# Churn Prediction - Como Antecipar a Evasão de Clientes com Machine Learning"
   ]
  },
  {
   "cell_type": "markdown",
   "metadata": {},
   "source": [
    "Em mercados competitivos, a retenção do cliente é tão importante quanto a sua conquista. *Churn rate*, ou simplesmente *churn*, representa a taxa de evasão da sua base de clientes. Em serviços como Spotify ou Netflix, ela representaria a taxa de cancelamento de assinaturas.\n",
    "\n",
    "*Por que isso importa?* Reter clientes custa menos do que consquistá-lo - `Custo de Aquisição de Cliente (CAC)`. Um alto *churn* pode indicar problemas na experiência do cliente, na proposta de valor, ou na concorrência. Ou seja, um alto valor para o *churn rate* é o que não desejamos.\n",
    "\n",
    "<p align=center>\n",
    "<img src=\"https://raw.githubusercontent.com/carlosfab/dsnp2/master/img/churnrate.jpg\" width=\"60%\"></p>\n",
    "\n",
    "Com modelos de machine learning, é possível identificar padrões comportamentais que antecedem o cancelamento. Isso permite que empresas atuem proativamente, oferecendo incentivos, promoções ou mudanças no serviço para evitar perdas."
   ]
  },
  {
   "cell_type": "markdown",
   "metadata": {},
   "source": [
    "## Fonte dos Dados"
   ]
  },
  {
   "cell_type": "markdown",
   "metadata": {},
   "source": [
    "Os dados utilizados neste projeto foram originalmente disponibilizados na plataforma do Kaggle, e tratam de um problema típico de uma companhia de telecomunicações. O *dataset* completo pode ser encontrado [neste link](https://www.kaggle.com/datasets/blastchar/telco-customer-churn).\n",
    "\n",
    "Cada registro representa um cliente, com atributos como:\n",
    "\n",
    "* Tipo de serviço (Internet, Telefone, Etc).\n",
    "\n",
    "* Forma de Pagamento.\n",
    "\n",
    "* Tempo como cliente.\n",
    "\n",
    "* Indicador de *Churn* (Variável Alvo)."
   ]
  },
  {
   "cell_type": "code",
   "execution_count": 2,
   "metadata": {},
   "outputs": [
    {
     "data": {
      "text/html": [
       "<div>\n",
       "<style scoped>\n",
       "    .dataframe tbody tr th:only-of-type {\n",
       "        vertical-align: middle;\n",
       "    }\n",
       "\n",
       "    .dataframe tbody tr th {\n",
       "        vertical-align: top;\n",
       "    }\n",
       "\n",
       "    .dataframe thead th {\n",
       "        text-align: right;\n",
       "    }\n",
       "</style>\n",
       "<table border=\"1\" class=\"dataframe\">\n",
       "  <thead>\n",
       "    <tr style=\"text-align: right;\">\n",
       "      <th></th>\n",
       "      <th>customerID</th>\n",
       "      <th>gender</th>\n",
       "      <th>SeniorCitizen</th>\n",
       "      <th>Partner</th>\n",
       "      <th>Dependents</th>\n",
       "      <th>tenure</th>\n",
       "      <th>PhoneService</th>\n",
       "      <th>MultipleLines</th>\n",
       "      <th>InternetService</th>\n",
       "      <th>OnlineSecurity</th>\n",
       "      <th>...</th>\n",
       "      <th>DeviceProtection</th>\n",
       "      <th>TechSupport</th>\n",
       "      <th>StreamingTV</th>\n",
       "      <th>StreamingMovies</th>\n",
       "      <th>Contract</th>\n",
       "      <th>PaperlessBilling</th>\n",
       "      <th>PaymentMethod</th>\n",
       "      <th>MonthlyCharges</th>\n",
       "      <th>TotalCharges</th>\n",
       "      <th>Churn</th>\n",
       "    </tr>\n",
       "  </thead>\n",
       "  <tbody>\n",
       "    <tr>\n",
       "      <th>0</th>\n",
       "      <td>7590-VHVEG</td>\n",
       "      <td>Female</td>\n",
       "      <td>0</td>\n",
       "      <td>Yes</td>\n",
       "      <td>No</td>\n",
       "      <td>1</td>\n",
       "      <td>No</td>\n",
       "      <td>No phone service</td>\n",
       "      <td>DSL</td>\n",
       "      <td>No</td>\n",
       "      <td>...</td>\n",
       "      <td>No</td>\n",
       "      <td>No</td>\n",
       "      <td>No</td>\n",
       "      <td>No</td>\n",
       "      <td>Month-to-month</td>\n",
       "      <td>Yes</td>\n",
       "      <td>Electronic check</td>\n",
       "      <td>29.85</td>\n",
       "      <td>29.85</td>\n",
       "      <td>No</td>\n",
       "    </tr>\n",
       "    <tr>\n",
       "      <th>1</th>\n",
       "      <td>5575-GNVDE</td>\n",
       "      <td>Male</td>\n",
       "      <td>0</td>\n",
       "      <td>No</td>\n",
       "      <td>No</td>\n",
       "      <td>34</td>\n",
       "      <td>Yes</td>\n",
       "      <td>No</td>\n",
       "      <td>DSL</td>\n",
       "      <td>Yes</td>\n",
       "      <td>...</td>\n",
       "      <td>Yes</td>\n",
       "      <td>No</td>\n",
       "      <td>No</td>\n",
       "      <td>No</td>\n",
       "      <td>One year</td>\n",
       "      <td>No</td>\n",
       "      <td>Mailed check</td>\n",
       "      <td>56.95</td>\n",
       "      <td>1889.5</td>\n",
       "      <td>No</td>\n",
       "    </tr>\n",
       "    <tr>\n",
       "      <th>2</th>\n",
       "      <td>3668-QPYBK</td>\n",
       "      <td>Male</td>\n",
       "      <td>0</td>\n",
       "      <td>No</td>\n",
       "      <td>No</td>\n",
       "      <td>2</td>\n",
       "      <td>Yes</td>\n",
       "      <td>No</td>\n",
       "      <td>DSL</td>\n",
       "      <td>Yes</td>\n",
       "      <td>...</td>\n",
       "      <td>No</td>\n",
       "      <td>No</td>\n",
       "      <td>No</td>\n",
       "      <td>No</td>\n",
       "      <td>Month-to-month</td>\n",
       "      <td>Yes</td>\n",
       "      <td>Mailed check</td>\n",
       "      <td>53.85</td>\n",
       "      <td>108.15</td>\n",
       "      <td>Yes</td>\n",
       "    </tr>\n",
       "    <tr>\n",
       "      <th>3</th>\n",
       "      <td>7795-CFOCW</td>\n",
       "      <td>Male</td>\n",
       "      <td>0</td>\n",
       "      <td>No</td>\n",
       "      <td>No</td>\n",
       "      <td>45</td>\n",
       "      <td>No</td>\n",
       "      <td>No phone service</td>\n",
       "      <td>DSL</td>\n",
       "      <td>Yes</td>\n",
       "      <td>...</td>\n",
       "      <td>Yes</td>\n",
       "      <td>Yes</td>\n",
       "      <td>No</td>\n",
       "      <td>No</td>\n",
       "      <td>One year</td>\n",
       "      <td>No</td>\n",
       "      <td>Bank transfer (automatic)</td>\n",
       "      <td>42.30</td>\n",
       "      <td>1840.75</td>\n",
       "      <td>No</td>\n",
       "    </tr>\n",
       "    <tr>\n",
       "      <th>4</th>\n",
       "      <td>9237-HQITU</td>\n",
       "      <td>Female</td>\n",
       "      <td>0</td>\n",
       "      <td>No</td>\n",
       "      <td>No</td>\n",
       "      <td>2</td>\n",
       "      <td>Yes</td>\n",
       "      <td>No</td>\n",
       "      <td>Fiber optic</td>\n",
       "      <td>No</td>\n",
       "      <td>...</td>\n",
       "      <td>No</td>\n",
       "      <td>No</td>\n",
       "      <td>No</td>\n",
       "      <td>No</td>\n",
       "      <td>Month-to-month</td>\n",
       "      <td>Yes</td>\n",
       "      <td>Electronic check</td>\n",
       "      <td>70.70</td>\n",
       "      <td>151.65</td>\n",
       "      <td>Yes</td>\n",
       "    </tr>\n",
       "  </tbody>\n",
       "</table>\n",
       "<p>5 rows × 21 columns</p>\n",
       "</div>"
      ],
      "text/plain": [
       "   customerID  gender  SeniorCitizen Partner Dependents  tenure PhoneService  \\\n",
       "0  7590-VHVEG  Female              0     Yes         No       1           No   \n",
       "1  5575-GNVDE    Male              0      No         No      34          Yes   \n",
       "2  3668-QPYBK    Male              0      No         No       2          Yes   \n",
       "3  7795-CFOCW    Male              0      No         No      45           No   \n",
       "4  9237-HQITU  Female              0      No         No       2          Yes   \n",
       "\n",
       "      MultipleLines InternetService OnlineSecurity  ... DeviceProtection  \\\n",
       "0  No phone service             DSL             No  ...               No   \n",
       "1                No             DSL            Yes  ...              Yes   \n",
       "2                No             DSL            Yes  ...               No   \n",
       "3  No phone service             DSL            Yes  ...              Yes   \n",
       "4                No     Fiber optic             No  ...               No   \n",
       "\n",
       "  TechSupport StreamingTV StreamingMovies        Contract PaperlessBilling  \\\n",
       "0          No          No              No  Month-to-month              Yes   \n",
       "1          No          No              No        One year               No   \n",
       "2          No          No              No  Month-to-month              Yes   \n",
       "3         Yes          No              No        One year               No   \n",
       "4          No          No              No  Month-to-month              Yes   \n",
       "\n",
       "               PaymentMethod MonthlyCharges  TotalCharges Churn  \n",
       "0           Electronic check          29.85         29.85    No  \n",
       "1               Mailed check          56.95        1889.5    No  \n",
       "2               Mailed check          53.85        108.15   Yes  \n",
       "3  Bank transfer (automatic)          42.30       1840.75    No  \n",
       "4           Electronic check          70.70        151.65   Yes  \n",
       "\n",
       "[5 rows x 21 columns]"
      ]
     },
     "execution_count": 2,
     "metadata": {},
     "output_type": "execute_result"
    }
   ],
   "source": [
    "# Importando pacotes\n",
    "import pandas as pd\n",
    "import numpy as np\n",
    "import matplotlib.pyplot as plt\n",
    "import seaborn as sns\n",
    "sns.set_theme(context=\"paper\", style=\"white\")\n",
    "sns.color_palette(\"Spectral\", n_colors=5)\n",
    "\n",
    "# Importando Dados\n",
    "PATH = \"https://raw.githubusercontent.com/carlosfab/dsnp2/master/datasets/WA_Fn-UseC_-Telco-Customer-Churn.csv\"\n",
    "df = pd.read_csv(PATH)\n",
    "\n",
    "# Conferindo o Dataset\n",
    "df.head()"
   ]
  },
  {
   "cell_type": "markdown",
   "metadata": {},
   "source": [
    "## Análise Exploratória dos Dados"
   ]
  },
  {
   "cell_type": "markdown",
   "metadata": {},
   "source": [
    "Antes de aplicar qualquer tipo de modelo preditivo, é crucial entender a estrutura e os padrões presentes nos dados. Nesta etapa, exploramos as variáveis, tratamos inconsistências e extraímos insights preliminares que ajudam na modelagem posterior."
   ]
  },
  {
   "cell_type": "code",
   "execution_count": 3,
   "metadata": {},
   "outputs": [
    {
     "name": "stdout",
     "output_type": "stream",
     "text": [
      "Dimensões do Dataset\n",
      "Linhas: \t\t7043\n",
      "Colunas: \t\t21\n"
     ]
    }
   ],
   "source": [
    "print(\"Dimensões do Dataset\")\n",
    "print(\"Linhas: \\t\\t{}\".format(df.shape[0]))\n",
    "print(\"Colunas: \\t\\t{}\".format(df.shape[1]))"
   ]
  },
  {
   "cell_type": "code",
   "execution_count": 4,
   "metadata": {},
   "outputs": [
    {
     "name": "stdout",
     "output_type": "stream",
     "text": [
      "Dados Ausentes (total): 0\n",
      "\n",
      "customerID          0.0\n",
      "gender              0.0\n",
      "SeniorCitizen       0.0\n",
      "Partner             0.0\n",
      "Dependents          0.0\n",
      "tenure              0.0\n",
      "PhoneService        0.0\n",
      "MultipleLines       0.0\n",
      "InternetService     0.0\n",
      "OnlineSecurity      0.0\n",
      "OnlineBackup        0.0\n",
      "DeviceProtection    0.0\n",
      "TechSupport         0.0\n",
      "StreamingTV         0.0\n",
      "StreamingMovies     0.0\n",
      "Contract            0.0\n",
      "PaperlessBilling    0.0\n",
      "PaymentMethod       0.0\n",
      "MonthlyCharges      0.0\n",
      "TotalCharges        0.0\n",
      "Churn               0.0\n",
      "dtype: float64\n"
     ]
    }
   ],
   "source": [
    "print(\"Dados Ausentes (total): {}\\n\".format(df.isnull().sum().values.sum()))\n",
    "print(df.isnull().sum() / df.shape[0])"
   ]
  },
  {
   "cell_type": "code",
   "execution_count": 5,
   "metadata": {},
   "outputs": [
    {
     "name": "stdout",
     "output_type": "stream",
     "text": [
      "Nome das Features do Dataset: \n",
      " ['customerID' 'gender' 'SeniorCitizen' 'Partner' 'Dependents' 'tenure'\n",
      " 'PhoneService' 'MultipleLines' 'InternetService' 'OnlineSecurity'\n",
      " 'OnlineBackup' 'DeviceProtection' 'TechSupport' 'StreamingTV'\n",
      " 'StreamingMovies' 'Contract' 'PaperlessBilling' 'PaymentMethod'\n",
      " 'MonthlyCharges' 'TotalCharges' 'Churn'] \n",
      "\n"
     ]
    }
   ],
   "source": [
    "print(\"Nome das Features do Dataset: \\n {} \\n\".format(df.columns.values))"
   ]
  },
  {
   "cell_type": "code",
   "execution_count": 6,
   "metadata": {},
   "outputs": [
    {
     "name": "stdout",
     "output_type": "stream",
     "text": [
      "Valores únicos por coluna: \n",
      "customerID          7043\n",
      "gender                 2\n",
      "SeniorCitizen          2\n",
      "Partner                2\n",
      "Dependents             2\n",
      "tenure                73\n",
      "PhoneService           2\n",
      "MultipleLines          3\n",
      "InternetService        3\n",
      "OnlineSecurity         3\n",
      "OnlineBackup           3\n",
      "DeviceProtection       3\n",
      "TechSupport            3\n",
      "StreamingTV            3\n",
      "StreamingMovies        3\n",
      "Contract               3\n",
      "PaperlessBilling       2\n",
      "PaymentMethod          4\n",
      "MonthlyCharges      1585\n",
      "TotalCharges        6531\n",
      "Churn                  2\n",
      "dtype: int64\n"
     ]
    }
   ],
   "source": [
    "print(\"Valores únicos por coluna: \\n{}\".format(df.nunique()))"
   ]
  },
  {
   "cell_type": "code",
   "execution_count": 7,
   "metadata": {},
   "outputs": [
    {
     "name": "stdout",
     "output_type": "stream",
     "text": [
      "Tipo de variáveis de cada coluna: \n",
      "customerID           object\n",
      "gender               object\n",
      "SeniorCitizen         int64\n",
      "Partner              object\n",
      "Dependents           object\n",
      "tenure                int64\n",
      "PhoneService         object\n",
      "MultipleLines        object\n",
      "InternetService      object\n",
      "OnlineSecurity       object\n",
      "OnlineBackup         object\n",
      "DeviceProtection     object\n",
      "TechSupport          object\n",
      "StreamingTV          object\n",
      "StreamingMovies      object\n",
      "Contract             object\n",
      "PaperlessBilling     object\n",
      "PaymentMethod        object\n",
      "MonthlyCharges      float64\n",
      "TotalCharges         object\n",
      "Churn                object\n",
      "dtype: object\n"
     ]
    }
   ],
   "source": [
    "print(\"Tipo de variáveis de cada coluna: \\n{}\".format(df.dtypes))"
   ]
  },
  {
   "cell_type": "code",
   "execution_count": 8,
   "metadata": {},
   "outputs": [
    {
     "data": {
      "text/plain": [
       "customerID                7590-VHVEG\n",
       "gender                        Female\n",
       "SeniorCitizen                      0\n",
       "Partner                          Yes\n",
       "Dependents                        No\n",
       "tenure                             1\n",
       "PhoneService                      No\n",
       "MultipleLines       No phone service\n",
       "InternetService                  DSL\n",
       "OnlineSecurity                    No\n",
       "OnlineBackup                     Yes\n",
       "DeviceProtection                  No\n",
       "TechSupport                       No\n",
       "StreamingTV                       No\n",
       "StreamingMovies                   No\n",
       "Contract              Month-to-month\n",
       "PaperlessBilling                 Yes\n",
       "PaymentMethod       Electronic check\n",
       "MonthlyCharges                 29.85\n",
       "TotalCharges                   29.85\n",
       "Churn                             No\n",
       "Name: 0, dtype: object"
      ]
     },
     "execution_count": 8,
     "metadata": {},
     "output_type": "execute_result"
    }
   ],
   "source": [
    "df.loc[0]"
   ]
  },
  {
   "cell_type": "markdown",
   "metadata": {},
   "source": [
    "**Observações Iniciais** \n",
    "\n",
    "*   A coluna `customerID` é apenas um identificador único, sem valor preditivo e será removida.\n",
    "\n",
    "*   A variável alvo é `Churn`, indicando se o cliente deixou ou não a operadora\n",
    "\n",
    "*   A coluna `TotalCharges` deveria ser numérica, mas encontra-se como object - será convertida para float. \n",
    "\n",
    "Após essa conversão, realizamos uma nova verificação de dados ausentes, que podem ter sido mascarados pelo tipo incorreto em que se encontra.\n",
    "\n",
    "*   Muitas colunas apresentam dados binários (`Yes/No`), que precisam ser transformados em valores numéricos ao longo do pré-processamento."
   ]
  },
  {
   "cell_type": "markdown",
   "metadata": {},
   "source": [
    "### Limpeza e Pré-processamento Inicial dos Dados"
   ]
  },
  {
   "cell_type": "code",
   "execution_count": 9,
   "metadata": {},
   "outputs": [],
   "source": [
    "# Criando cópia do Dataframe\n",
    "df_clean = df.copy()\n",
    "\n",
    "# Remover a coluna \"costumerID\"\n",
    "df_clean.drop(\"customerID\", axis=1, inplace=True)\n",
    "\n",
    "# Converter strings para float\n",
    "df_clean[\"TotalCharges\"] = pd.to_numeric(df_clean[\"TotalCharges\"], errors=\"coerce\")"
   ]
  },
  {
   "cell_type": "code",
   "execution_count": 10,
   "metadata": {},
   "outputs": [
    {
     "name": "stdout",
     "output_type": "stream",
     "text": [
      "Valores ausentes em TotalCharges: \t{ausentes}\n"
     ]
    }
   ],
   "source": [
    "# Verificando valores ausentes\n",
    "ausentes = df_clean[\"TotalCharges\"].isnull().sum()\n",
    "\n",
    "print(\"Valores ausentes em TotalCharges: \\t{ausentes}\")"
   ]
  },
  {
   "cell_type": "markdown",
   "metadata": {},
   "source": [
    "Durante a conversão da coluna `TotalCharges` de string para float, identificamos valores ausentes. \n",
    "\n",
    "Decidimos substituí-los pela mediana, uma estratégia robusta contra outliers."
   ]
  },
  {
   "cell_type": "code",
   "execution_count": 11,
   "metadata": {},
   "outputs": [],
   "source": [
    "# Substituindo valores ausentes pela mediana\n",
    "df_clean[\"TotalCharges\"] = df_clean[\"TotalCharges\"].fillna(df_clean[\"TotalCharges\"].median())"
   ]
  },
  {
   "cell_type": "code",
   "execution_count": 12,
   "metadata": {},
   "outputs": [
    {
     "name": "stdout",
     "output_type": "stream",
     "text": [
      "Valores ausentes em TotalCharges: \t0\n"
     ]
    }
   ],
   "source": [
    "print(\"Valores ausentes em TotalCharges: \\t{}\".format(df_clean[\"TotalCharges\"].isnull().sum()))"
   ]
  },
  {
   "cell_type": "markdown",
   "metadata": {},
   "source": [
    "### Continuando a Análise Exploratória"
   ]
  },
  {
   "cell_type": "markdown",
   "metadata": {},
   "source": [
    "Embora o Dataset seja composto majoritariamente por variáveis categóricas, também utilizamos o método `describe()` para uma análise estatística das variáveis numéricas. Isso nos ajuda a identificar: \n",
    "\n",
    "* Possíveis `outliers`.\n",
    "\n",
    "* Distribuições enviesadas.\n",
    "\n",
    "* Necessidade de normalização ou padronização."
   ]
  },
  {
   "cell_type": "code",
   "execution_count": 13,
   "metadata": {},
   "outputs": [
    {
     "data": {
      "text/html": [
       "<div>\n",
       "<style scoped>\n",
       "    .dataframe tbody tr th:only-of-type {\n",
       "        vertical-align: middle;\n",
       "    }\n",
       "\n",
       "    .dataframe tbody tr th {\n",
       "        vertical-align: top;\n",
       "    }\n",
       "\n",
       "    .dataframe thead th {\n",
       "        text-align: right;\n",
       "    }\n",
       "</style>\n",
       "<table border=\"1\" class=\"dataframe\">\n",
       "  <thead>\n",
       "    <tr style=\"text-align: right;\">\n",
       "      <th></th>\n",
       "      <th>SeniorCitizen</th>\n",
       "      <th>tenure</th>\n",
       "      <th>MonthlyCharges</th>\n",
       "      <th>TotalCharges</th>\n",
       "    </tr>\n",
       "  </thead>\n",
       "  <tbody>\n",
       "    <tr>\n",
       "      <th>count</th>\n",
       "      <td>7043.000000</td>\n",
       "      <td>7043.000000</td>\n",
       "      <td>7043.000000</td>\n",
       "      <td>7043.000000</td>\n",
       "    </tr>\n",
       "    <tr>\n",
       "      <th>mean</th>\n",
       "      <td>0.162147</td>\n",
       "      <td>32.371149</td>\n",
       "      <td>64.761692</td>\n",
       "      <td>2281.916928</td>\n",
       "    </tr>\n",
       "    <tr>\n",
       "      <th>std</th>\n",
       "      <td>0.368612</td>\n",
       "      <td>24.559481</td>\n",
       "      <td>30.090047</td>\n",
       "      <td>2265.270398</td>\n",
       "    </tr>\n",
       "    <tr>\n",
       "      <th>min</th>\n",
       "      <td>0.000000</td>\n",
       "      <td>0.000000</td>\n",
       "      <td>18.250000</td>\n",
       "      <td>18.800000</td>\n",
       "    </tr>\n",
       "    <tr>\n",
       "      <th>25%</th>\n",
       "      <td>0.000000</td>\n",
       "      <td>9.000000</td>\n",
       "      <td>35.500000</td>\n",
       "      <td>402.225000</td>\n",
       "    </tr>\n",
       "    <tr>\n",
       "      <th>50%</th>\n",
       "      <td>0.000000</td>\n",
       "      <td>29.000000</td>\n",
       "      <td>70.350000</td>\n",
       "      <td>1397.475000</td>\n",
       "    </tr>\n",
       "    <tr>\n",
       "      <th>75%</th>\n",
       "      <td>0.000000</td>\n",
       "      <td>55.000000</td>\n",
       "      <td>89.850000</td>\n",
       "      <td>3786.600000</td>\n",
       "    </tr>\n",
       "    <tr>\n",
       "      <th>max</th>\n",
       "      <td>1.000000</td>\n",
       "      <td>72.000000</td>\n",
       "      <td>118.750000</td>\n",
       "      <td>8684.800000</td>\n",
       "    </tr>\n",
       "  </tbody>\n",
       "</table>\n",
       "</div>"
      ],
      "text/plain": [
       "       SeniorCitizen       tenure  MonthlyCharges  TotalCharges\n",
       "count    7043.000000  7043.000000     7043.000000   7043.000000\n",
       "mean        0.162147    32.371149       64.761692   2281.916928\n",
       "std         0.368612    24.559481       30.090047   2265.270398\n",
       "min         0.000000     0.000000       18.250000     18.800000\n",
       "25%         0.000000     9.000000       35.500000    402.225000\n",
       "50%         0.000000    29.000000       70.350000   1397.475000\n",
       "75%         0.000000    55.000000       89.850000   3786.600000\n",
       "max         1.000000    72.000000      118.750000   8684.800000"
      ]
     },
     "execution_count": 13,
     "metadata": {},
     "output_type": "execute_result"
    }
   ],
   "source": [
    "df_clean.describe()"
   ]
  },
  {
   "cell_type": "markdown",
   "metadata": {},
   "source": [
    "Através do resultado do `describe()`, notamos que o crescimento dos resultados apresentam uma amplitude normal, o que pode indicar que os dados não apresentam outliers."
   ]
  },
  {
   "cell_type": "code",
   "execution_count": 14,
   "metadata": {},
   "outputs": [
    {
     "data": {
      "image/png": "[encoded data removed]",
      "text/plain": [
       "<Figure size 1200x400 with 2 Axes>"
      ]
     },
     "metadata": {},
     "output_type": "display_data"
    }
   ],
   "source": [
    "fig, ax = plt.subplots(nrows=1, ncols=2, figsize=(12,4))\n",
    "sns.boxplot(df_clean[\"MonthlyCharges\"], ax=ax[0])\n",
    "sns.boxplot(df_clean[\"TotalCharges\"], ax=ax[1])\n",
    "plt.tight_layout()"
   ]
  },
  {
   "cell_type": "markdown",
   "metadata": {},
   "source": [
    "Analisando o `boxplot` para as colunas `MonthlyCharge` e `TotalCharges`, confirma-se que não há presença de outliers nos dados.\n",
    "\n",
    "--- \n",
    "\n",
    "A variável `SeniorCitizen` é uma variável binária, que indica se o cliente é Idoso ou não, vemos que 16% dos clientes são idoso."
   ]
  },
  {
   "cell_type": "code",
   "execution_count": 15,
   "metadata": {},
   "outputs": [
    {
     "name": "stdout",
     "output_type": "stream",
     "text": [
      "O total de Idosos assinantes é de 1142.\n",
      "Referente à 16.21% do total de clientes.\n"
     ]
    }
   ],
   "source": [
    "print(\"O total de Idosos assinantes é de {}.\".format(round(df_clean[\"SeniorCitizen\"].value_counts(normalize=False))[1]))\n",
    "print(\"Referente à {:.2f}% do total de clientes.\".format((df_clean[\"SeniorCitizen\"].value_counts(normalize=True)*100)[1]))"
   ]
  },
  {
   "cell_type": "code",
   "execution_count": 16,
   "metadata": {},
   "outputs": [
    {
     "data": {
      "image/png": "[encoded data removed]",
      "text/plain": [
       "<Figure size 640x480 with 1 Axes>"
      ]
     },
     "metadata": {},
     "output_type": "display_data"
    }
   ],
   "source": [
    "sns.countplot(data=df_clean, x=\"SeniorCitizen\")\n",
    "plt.tight_layout()"
   ]
  },
  {
   "cell_type": "markdown",
   "metadata": {},
   "source": [
    "A variável `tenure` indica o tempo de permanência de um cliente assinante, pode-se dizer que é um indicativo de fidelidade. Apensar de não haver nenhum indicativo da métrica, vamos assumir que a unidade de tempo utilizada é `Mês`."
   ]
  },
  {
   "cell_type": "code",
   "execution_count": 17,
   "metadata": {},
   "outputs": [
    {
     "data": {
      "image/png": "[encoded data removed]",
      "text/plain": [
       "<Figure size 1200x400 with 1 Axes>"
      ]
     },
     "metadata": {},
     "output_type": "display_data"
    }
   ],
   "source": [
    "fig, ax = plt.subplots(figsize=(12,4))\n",
    "sns.histplot(df_clean[\"tenure\"])\n",
    "plt.xticks(range(0,70,12))\n",
    "plt.xlabel(\"Mêses de Assinatura Ativa\")\n",
    "plt.ylabel(\"Quantidade de Assinantes\")\n",
    "plt.title(\"Histograma para coluna 'Tenure'\")\n",
    "plt.tight_layout()"
   ]
  },
  {
   "cell_type": "markdown",
   "metadata": {},
   "source": [
    "Através do histograma da variável `tenure`, observamos que o primeiro ano de assinatura é crucial para a retenção dos cliente, após esse período a tendência é de que permaneçam com a assinatura ativa. "
   ]
  },
  {
   "cell_type": "markdown",
   "metadata": {},
   "source": [
    "### Analisando Variáveis Categóricas"
   ]
  },
  {
   "cell_type": "markdown",
   "metadata": {},
   "source": [
    "Grande parte das variáveis presentes neste dataset são categóricas, representadas como textos. Isso inclui colunas como `gender`, `InternetService`, `Contract`, `PaymentMethod`, entre outras."
   ]
  },
  {
   "cell_type": "markdown",
   "metadata": {},
   "source": [
    "#### Objetivo "
   ]
  },
  {
   "cell_type": "markdown",
   "metadata": {},
   "source": [
    "Entender a distribuição e possíveis correlações com o `Churn`. Por exemplo, cliente com contratos mensais ou com serviços de Internet mais instáveis podem ter maior probabilidade de evasão.\n",
    "\n",
    "Lidando com variáveis categóricas, é importante conferir os valores únicos, pois permite identificar como os dados são constituídos, identificar labels diferentes porém com o mesmo significado."
   ]
  },
  {
   "cell_type": "code",
   "execution_count": 18,
   "metadata": {},
   "outputs": [
    {
     "data": {
      "text/plain": [
       "array(['Bank transfer (automatic)', 'Credit card (automatic)', 'DSL',\n",
       "       'Electronic check', 'Female', 'Fiber optic', 'Mailed check',\n",
       "       'Male', 'Month-to-month', 'No', 'No internet service',\n",
       "       'No phone service', 'One year', 'Two year', 'Yes'], dtype=object)"
      ]
     },
     "execution_count": 18,
     "metadata": {},
     "output_type": "execute_result"
    }
   ],
   "source": [
    "np.unique(df_clean.select_dtypes(\"object\").values)"
   ]
  },
  {
   "cell_type": "code",
   "execution_count": 19,
   "metadata": {},
   "outputs": [
    {
     "data": {
      "text/plain": [
       "Index(['gender', 'SeniorCitizen', 'Partner', 'Dependents', 'tenure',\n",
       "       'PhoneService', 'MultipleLines', 'InternetService', 'OnlineSecurity',\n",
       "       'OnlineBackup', 'DeviceProtection', 'TechSupport', 'StreamingTV',\n",
       "       'StreamingMovies', 'Contract', 'PaperlessBilling', 'PaymentMethod',\n",
       "       'MonthlyCharges', 'TotalCharges', 'Churn'],\n",
       "      dtype='object')"
      ]
     },
     "execution_count": 19,
     "metadata": {},
     "output_type": "execute_result"
    }
   ],
   "source": [
    "df_clean.columns"
   ]
  },
  {
   "cell_type": "markdown",
   "metadata": {},
   "source": [
    "O gráfico abaixo mostra as variáveis categóricas com maior separação entre o resultado de `Churn`. De acordo com cada uma dessas variáveis, os clientes que apresentam os maiores índices de Churn são:\n",
    "\n",
    "* `Contract`: Contratos de renovação mensal.\n",
    "\n",
    "* `InternetService`: Clientes com fibra óptica.\n",
    "\n",
    "* `PaymentMethod`: Clientes com pagamento do tipo \"Cheque Eletrônico\".\n",
    "\n",
    "* `TechSupport`: Clientes sem suporte técnico.\n",
    "\n",
    "* `OnlineSecurity`: Clientes sem segurança online.\n",
    "\n",
    "* `DeviceProtection`: Clientes que não optaram por algum tipo de proteção (Antivírus)\n",
    "\n",
    "* `StreamingTV`: Pequena diferença, mas a maioria dos cancelamentos são de clientes que não utilizam TV por Streaming.\n",
    "\n",
    "* `StreamingMovies`: Assim como o anterior, a maioria dos cancelamentos são de clientes que não assistem Filmes por Streaming."
   ]
  },
  {
   "cell_type": "code",
   "execution_count": 20,
   "metadata": {},
   "outputs": [
    {
     "data": {
      "image/png": "[encoded data removed]",
      "text/plain": [
       "<Figure size 1600x900 with 8 Axes>"
      ]
     },
     "metadata": {},
     "output_type": "display_data"
    }
   ],
   "source": [
    "# Criando plot com as variáveis categóricas com maior separação entre a classe Churn\n",
    "\n",
    "df_class_0 = df_clean[df_clean.Churn == \"No\"]\n",
    "df_class_1 = df_clean[df_clean.Churn == \"Yes\"]\n",
    "\n",
    "fig, ax = plt.subplots(nrows=4, ncols=2, figsize=(16,9))\n",
    "fig.subplots_adjust(hspace=3, wspace=3)\n",
    "sns.color_palette(\"muted\")\n",
    "\n",
    "# Variáveis mais informativas\n",
    "selected_cols = [\n",
    "    \"Contract\", \"InternetService\", \"PaymentMethod\",\n",
    "    \"TechSupport\", \"OnlineSecurity\", \"DeviceProtection\",\n",
    "    \"StreamingTV\", \"StreamingMovies\"\n",
    "]\n",
    "\n",
    "indx = 0\n",
    "for col in selected_cols:\n",
    "    indx += 1\n",
    "    plt.subplot(4, 2, indx)\n",
    "    sns.countplot(df_class_0[col], label=\"Churn = No\", ) \n",
    "    sns.countplot(df_class_1[col], label=\"Churn = Yes\", ) \n",
    "    plt.title(col, fontsize=15)\n",
    "    plt.xlabel(\"\")\n",
    "    plt.ylabel(\"\")\n",
    "    plt.legend()\n",
    "    plt.xticks(range(0,2001,500))\n",
    "\n",
    "plt.tight_layout()"
   ]
  },
  {
   "cell_type": "markdown",
   "metadata": {},
   "source": [
    "## Preparação Final para Modelagem\n"
   ]
  },
  {
   "cell_type": "markdown",
   "metadata": {},
   "source": [
    "Agora vamos realizar um pré-processamento dos dados para construir a base do nosso modelo de machine learning.\n",
    "\n",
    "Aqui vamos transformar as features, todas aquelas que contém dois valores únicos, serão transformados para 0 ou 1, utilizando o método `LabelEncoder`. Nessa transformação está inclusa a variável alvo, `Churn`, que apresenta resultados `Yes` ou `No`. As variáveis categóricas serão transformadas em variáveis `dummy`, para facilitar a utilização em diferentes modelos."
   ]
  },
  {
   "cell_type": "code",
   "execution_count": 21,
   "metadata": {},
   "outputs": [],
   "source": [
    "# Pré processamento das features\n",
    "binary_var = df_clean.nunique()[df_clean.nunique() == 2].keys().tolist()\n",
    "num_var = [col for col in df_clean.select_dtypes([\"int\", \"float\"]).columns.tolist() if col not in binary_var]\n",
    "cat_var = [col for col in df_clean.columns.tolist() if col not in binary_var + num_var]"
   ]
  },
  {
   "cell_type": "code",
   "execution_count": 22,
   "metadata": {},
   "outputs": [
    {
     "data": {
      "text/html": [
       "<div>\n",
       "<style scoped>\n",
       "    .dataframe tbody tr th:only-of-type {\n",
       "        vertical-align: middle;\n",
       "    }\n",
       "\n",
       "    .dataframe tbody tr th {\n",
       "        vertical-align: top;\n",
       "    }\n",
       "\n",
       "    .dataframe thead th {\n",
       "        text-align: right;\n",
       "    }\n",
       "</style>\n",
       "<table border=\"1\" class=\"dataframe\">\n",
       "  <thead>\n",
       "    <tr style=\"text-align: right;\">\n",
       "      <th></th>\n",
       "      <th>gender</th>\n",
       "      <th>SeniorCitizen</th>\n",
       "      <th>Partner</th>\n",
       "      <th>Dependents</th>\n",
       "      <th>tenure</th>\n",
       "      <th>PhoneService</th>\n",
       "      <th>PaperlessBilling</th>\n",
       "      <th>MonthlyCharges</th>\n",
       "      <th>TotalCharges</th>\n",
       "      <th>Churn</th>\n",
       "      <th>...</th>\n",
       "      <th>StreamingMovies_No</th>\n",
       "      <th>StreamingMovies_No internet service</th>\n",
       "      <th>StreamingMovies_Yes</th>\n",
       "      <th>Contract_Month-to-month</th>\n",
       "      <th>Contract_One year</th>\n",
       "      <th>Contract_Two year</th>\n",
       "      <th>PaymentMethod_Bank transfer (automatic)</th>\n",
       "      <th>PaymentMethod_Credit card (automatic)</th>\n",
       "      <th>PaymentMethod_Electronic check</th>\n",
       "      <th>PaymentMethod_Mailed check</th>\n",
       "    </tr>\n",
       "  </thead>\n",
       "  <tbody>\n",
       "    <tr>\n",
       "      <th>0</th>\n",
       "      <td>0</td>\n",
       "      <td>0</td>\n",
       "      <td>1</td>\n",
       "      <td>0</td>\n",
       "      <td>1</td>\n",
       "      <td>0</td>\n",
       "      <td>1</td>\n",
       "      <td>29.85</td>\n",
       "      <td>29.85</td>\n",
       "      <td>0</td>\n",
       "      <td>...</td>\n",
       "      <td>True</td>\n",
       "      <td>False</td>\n",
       "      <td>False</td>\n",
       "      <td>True</td>\n",
       "      <td>False</td>\n",
       "      <td>False</td>\n",
       "      <td>False</td>\n",
       "      <td>False</td>\n",
       "      <td>True</td>\n",
       "      <td>False</td>\n",
       "    </tr>\n",
       "    <tr>\n",
       "      <th>1</th>\n",
       "      <td>1</td>\n",
       "      <td>0</td>\n",
       "      <td>0</td>\n",
       "      <td>0</td>\n",
       "      <td>34</td>\n",
       "      <td>1</td>\n",
       "      <td>0</td>\n",
       "      <td>56.95</td>\n",
       "      <td>1889.50</td>\n",
       "      <td>0</td>\n",
       "      <td>...</td>\n",
       "      <td>True</td>\n",
       "      <td>False</td>\n",
       "      <td>False</td>\n",
       "      <td>False</td>\n",
       "      <td>True</td>\n",
       "      <td>False</td>\n",
       "      <td>False</td>\n",
       "      <td>False</td>\n",
       "      <td>False</td>\n",
       "      <td>True</td>\n",
       "    </tr>\n",
       "    <tr>\n",
       "      <th>2</th>\n",
       "      <td>1</td>\n",
       "      <td>0</td>\n",
       "      <td>0</td>\n",
       "      <td>0</td>\n",
       "      <td>2</td>\n",
       "      <td>1</td>\n",
       "      <td>1</td>\n",
       "      <td>53.85</td>\n",
       "      <td>108.15</td>\n",
       "      <td>1</td>\n",
       "      <td>...</td>\n",
       "      <td>True</td>\n",
       "      <td>False</td>\n",
       "      <td>False</td>\n",
       "      <td>True</td>\n",
       "      <td>False</td>\n",
       "      <td>False</td>\n",
       "      <td>False</td>\n",
       "      <td>False</td>\n",
       "      <td>False</td>\n",
       "      <td>True</td>\n",
       "    </tr>\n",
       "    <tr>\n",
       "      <th>3</th>\n",
       "      <td>1</td>\n",
       "      <td>0</td>\n",
       "      <td>0</td>\n",
       "      <td>0</td>\n",
       "      <td>45</td>\n",
       "      <td>0</td>\n",
       "      <td>0</td>\n",
       "      <td>42.30</td>\n",
       "      <td>1840.75</td>\n",
       "      <td>0</td>\n",
       "      <td>...</td>\n",
       "      <td>True</td>\n",
       "      <td>False</td>\n",
       "      <td>False</td>\n",
       "      <td>False</td>\n",
       "      <td>True</td>\n",
       "      <td>False</td>\n",
       "      <td>True</td>\n",
       "      <td>False</td>\n",
       "      <td>False</td>\n",
       "      <td>False</td>\n",
       "    </tr>\n",
       "    <tr>\n",
       "      <th>4</th>\n",
       "      <td>0</td>\n",
       "      <td>0</td>\n",
       "      <td>0</td>\n",
       "      <td>0</td>\n",
       "      <td>2</td>\n",
       "      <td>1</td>\n",
       "      <td>1</td>\n",
       "      <td>70.70</td>\n",
       "      <td>151.65</td>\n",
       "      <td>1</td>\n",
       "      <td>...</td>\n",
       "      <td>True</td>\n",
       "      <td>False</td>\n",
       "      <td>False</td>\n",
       "      <td>True</td>\n",
       "      <td>False</td>\n",
       "      <td>False</td>\n",
       "      <td>False</td>\n",
       "      <td>False</td>\n",
       "      <td>True</td>\n",
       "      <td>False</td>\n",
       "    </tr>\n",
       "  </tbody>\n",
       "</table>\n",
       "<p>5 rows × 41 columns</p>\n",
       "</div>"
      ],
      "text/plain": [
       "   gender  SeniorCitizen  Partner  Dependents  tenure  PhoneService  \\\n",
       "0       0              0        1           0       1             0   \n",
       "1       1              0        0           0      34             1   \n",
       "2       1              0        0           0       2             1   \n",
       "3       1              0        0           0      45             0   \n",
       "4       0              0        0           0       2             1   \n",
       "\n",
       "   PaperlessBilling  MonthlyCharges  TotalCharges  Churn  ...  \\\n",
       "0                 1           29.85         29.85      0  ...   \n",
       "1                 0           56.95       1889.50      0  ...   \n",
       "2                 1           53.85        108.15      1  ...   \n",
       "3                 0           42.30       1840.75      0  ...   \n",
       "4                 1           70.70        151.65      1  ...   \n",
       "\n",
       "   StreamingMovies_No  StreamingMovies_No internet service  \\\n",
       "0                True                                False   \n",
       "1                True                                False   \n",
       "2                True                                False   \n",
       "3                True                                False   \n",
       "4                True                                False   \n",
       "\n",
       "   StreamingMovies_Yes  Contract_Month-to-month  Contract_One year  \\\n",
       "0                False                     True              False   \n",
       "1                False                    False               True   \n",
       "2                False                     True              False   \n",
       "3                False                    False               True   \n",
       "4                False                     True              False   \n",
       "\n",
       "   Contract_Two year  PaymentMethod_Bank transfer (automatic)  \\\n",
       "0              False                                    False   \n",
       "1              False                                    False   \n",
       "2              False                                    False   \n",
       "3              False                                     True   \n",
       "4              False                                    False   \n",
       "\n",
       "   PaymentMethod_Credit card (automatic)  PaymentMethod_Electronic check  \\\n",
       "0                                  False                            True   \n",
       "1                                  False                           False   \n",
       "2                                  False                           False   \n",
       "3                                  False                           False   \n",
       "4                                  False                            True   \n",
       "\n",
       "   PaymentMethod_Mailed check  \n",
       "0                       False  \n",
       "1                        True  \n",
       "2                        True  \n",
       "3                       False  \n",
       "4                       False  \n",
       "\n",
       "[5 rows x 41 columns]"
      ]
     },
     "execution_count": 22,
     "metadata": {},
     "output_type": "execute_result"
    }
   ],
   "source": [
    "from sklearn.preprocessing import LabelEncoder\n",
    "\n",
    "# Criando cópia do dataset\n",
    "df_prep = df_clean.copy()\n",
    "\n",
    "# Aplicando o Label Encoding para as features binarias\n",
    "le = LabelEncoder()\n",
    "for i in binary_var:\n",
    "    df_prep[i] = le.fit_transform(df_prep[i])\n",
    "    \n",
    "# Encoding para as colunas categóricas\n",
    "df_prep = pd.get_dummies(df_prep, columns=cat_var)\n",
    "\n",
    "df_prep.head()"
   ]
  },
  {
   "cell_type": "markdown",
   "metadata": {},
   "source": [
    "## Modelagem Preditiva"
   ]
  },
  {
   "cell_type": "markdown",
   "metadata": {},
   "source": [
    "Após a preparação dos dados, iniciamos a fase de modelagem, com o objetivo de prever o `Churn` dos clientes. Foram testados diferentes algoritmos supervisionados, avaliando desempenho e interpretabilidade e viabilidade de produção.\n",
    "\n",
    "**Algoritmos utilizados**\n",
    "\n",
    "* `Logistic Regression`\n",
    "* `SGDClassifier`\n",
    "* `Random Forest`\n",
    "* `Support Vector Machine (SVM)`\n",
    "* `XGBClassifier`\n",
    "* `LGBMClassifier`\n",
    "* `Decision Tree`\n",
    "\n",
    "**Validação**\n",
    "\n",
    "Utilizamos validação cruzada estratificada (k-fold) para garantir a generalização e preservar proporção de churn.\n",
    "\n",
    "Métricas principais:\n",
    "\n",
    "* `Accuracy` -> Acurácia Geral\n",
    "* `Recall` -> Capacidade de identificar um cliente churn\n",
    "* `Precision` -> Relevância dos churns previstos\n",
    "* `F1-score` -> Balanceamento entre Precisão e Recall\n",
    "* `ROC AUC` -> Capacidade Discriminativa Global\n"
   ]
  },
  {
   "cell_type": "code",
   "execution_count": 56,
   "metadata": {},
   "outputs": [],
   "source": [
    "# importando pacotes\n",
    "from sklearn.model_selection import train_test_split, cross_val_score, StratifiedKFold, GridSearchCV\n",
    "from sklearn.linear_model import LogisticRegression, SGDClassifier\n",
    "from sklearn.ensemble import RandomForestClassifier\n",
    "from sklearn.tree import DecisionTreeClassifier\n",
    "from sklearn.svm import SVC\n",
    "from sklearn.preprocessing import StandardScaler, LabelEncoder\n",
    "from sklearn.pipeline import make_pipeline\n",
    "from sklearn.metrics import roc_auc_score, accuracy_score, f1_score, confusion_matrix, classification_report, ConfusionMatrixDisplay, roc_curve, auc\n",
    "from imblearn.over_sampling import SMOTENC\n",
    "from imblearn.pipeline import Pipeline \n",
    "from imblearn.pipeline import Pipeline as ImbPipeline\n",
    "from lightgbm import LGBMClassifier\n",
    "from xgboost import XGBClassifier\n",
    "from scipy.stats import randint, uniform\n",
    "from sklearn.model_selection import RandomizedSearchCV"
   ]
  },
  {
   "cell_type": "markdown",
   "metadata": {},
   "source": [
    "Agora que os dados estão devidamente limpos e tratados, vamos dar início à construção dos modelos de machine learning. \n",
    "\n",
    "Vamos iniciar separando os dados entre, `feature matrix`, `target vector` e então separar a base entre dados de treino e dados de teste."
   ]
  },
  {
   "cell_type": "code",
   "execution_count": 64,
   "metadata": {},
   "outputs": [],
   "source": [
    "# separar as features\n",
    "X = df_prep.drop(\"Churn\", axis=1)\n",
    "y = df_prep[\"Churn\"]\n",
    "\n",
    "# Dividir entre treino e teste\n",
    "X_train, X_test, y_train, y_test = train_test_split(X, y, test_size=0.3, random_state=42)"
   ]
  },
  {
   "cell_type": "markdown",
   "metadata": {},
   "source": [
    "Usaremos o método de `cross-validation` para estimar o erro dos modelos. Para facilitar a construção do código, abaixo temos uma função `validar_modelo` para que possamos executar diferentes modelos de machine learning de forma mais rápida.\n",
    "\n",
    "A métrica utilizada para avaliação de cada modelo será `recall`."
   ]
  },
  {
   "cell_type": "code",
   "execution_count": 77,
   "metadata": {},
   "outputs": [],
   "source": [
    "def validar_modelo(X, y, clf, quite=False):\n",
    "    \"\"\"\n",
    "    Realiza cross-validation com os dados de treino para determinado modelo.\n",
    "\n",
    "    # Args:\n",
    "        X : Dataframe com as variáveis independentes.\n",
    "        y : Series com a variável alvo.\n",
    "        clf : Modelo classificador do Scikit-learn.\n",
    "        quite : bool, indica se a função deve imprimir os resultados ou não\n",
    "        \n",
    "    # Returns\n",
    "        float, média dos scores da cross-validation\n",
    "    \"\"\"\n",
    "    \n",
    "    # Identificando colunas categóricas\n",
    "    categorical_features = [i for i, col in enumerate(X.columns) if X[col].dtype == \"bool\"]\n",
    "    \n",
    "    pipeline = ImbPipeline([\n",
    "        (\"smote\", SMOTENC(categorical_features=categorical_features, random_state=42)),\n",
    "        (\"scaler\", StandardScaler()),\n",
    "        (\"clf\", clf)\n",
    "    ])\n",
    "    \n",
    "    scores = cross_val_score(pipeline, X, y, scoring=\"recall\", cv=StratifiedKFold(n_splits=10, shuffle=True, random_state=42))\n",
    "    \n",
    "    if quite == False:\n",
    "        print(\"Recall: {:.2f} (+/- {:.2f})\".format(scores.mean(), scores.std()))\n",
    "        \n",
    "    return scores.mean()"
   ]
  },
  {
   "cell_type": "markdown",
   "metadata": {},
   "source": [
    "Para servir de modelo de base, vamos utilizar o modelo `Random Forest`, com os parâmetros `default`. "
   ]
  },
  {
   "cell_type": "code",
   "execution_count": 78,
   "metadata": {},
   "outputs": [
    {
     "name": "stdout",
     "output_type": "stream",
     "text": [
      "Recall: 0.58 (+/- 0.04)\n"
     ]
    }
   ],
   "source": [
    "rf = RandomForestClassifier(random_state=42)\n",
    "score_baseline = validar_modelo(X_train, y_train, rf)"
   ]
  },
  {
   "cell_type": "markdown",
   "metadata": {},
   "source": [
    "Agora temos um resultado base, adiquirido através da aplicação \"pura\" do modelo, sem nenhum tipo de tuning. Vamos então fazer o balanceamento dos dados e conferir o nível de impacto nos resultados.\n",
    "\n",
    "Para balanceamento dos dados, vamos utilizar o método SMOTENC por ser o mais adequado para lidar com variáveis mistas: numéricas, categóricas.\n",
    "\n",
    "Não será feita a padronização dos dados, por conta das diversas variáveis com valores booleanos, como resultam apenas 0 e 1, a normalização transformaria os resultados em frações.\n"
   ]
  },
  {
   "cell_type": "code",
   "execution_count": null,
   "metadata": {},
   "outputs": [],
   "source": [
    "# Instanciar modelos\n",
    "rf = RandomForestClassifier(random_state=42)\n",
    "dt = DecisionTreeClassifier(random_state=42)\n",
    "sgdc = SGDClassifier(random_state=42)\n",
    "svc = SVC(random_state=42)\n",
    "lr = LogisticRegression(random_state=42)\n",
    "xgb = XGBClassifier(random_state=42)\n",
    "lgbm = LGBMClassifier(random_state=42)\n",
    "\n",
    "# Criando listas vazias para armazenar os resultados\n",
    "model = []\n",
    "recall = []\n",
    "\n",
    "# avaliar o desempenho de todos os modelos\n",
    "\n",
    "for clf in (rf, dt, sgdc, svc, lr, xgb, lgbm):\n",
    "    model.append(clf.__class__.__name__)\n",
    "    recall.append(validar_modelo(X_train, y_train, clf, quite=True))\n"
   ]
  },
  {
   "cell_type": "code",
   "execution_count": 81,
   "metadata": {},
   "outputs": [
    {
     "data": {
      "text/html": [
       "<div>\n",
       "<style scoped>\n",
       "    .dataframe tbody tr th:only-of-type {\n",
       "        vertical-align: middle;\n",
       "    }\n",
       "\n",
       "    .dataframe tbody tr th {\n",
       "        vertical-align: top;\n",
       "    }\n",
       "\n",
       "    .dataframe thead th {\n",
       "        text-align: right;\n",
       "    }\n",
       "</style>\n",
       "<table border=\"1\" class=\"dataframe\">\n",
       "  <thead>\n",
       "    <tr style=\"text-align: right;\">\n",
       "      <th></th>\n",
       "      <th>0</th>\n",
       "    </tr>\n",
       "  </thead>\n",
       "  <tbody>\n",
       "    <tr>\n",
       "      <th>RandomForestClassifier</th>\n",
       "      <td>0.584514</td>\n",
       "    </tr>\n",
       "    <tr>\n",
       "      <th>DecisionTreeClassifier</th>\n",
       "      <td>0.522039</td>\n",
       "    </tr>\n",
       "    <tr>\n",
       "      <th>SGDClassifier</th>\n",
       "      <td>0.660948</td>\n",
       "    </tr>\n",
       "    <tr>\n",
       "      <th>SVC</th>\n",
       "      <td>0.624741</td>\n",
       "    </tr>\n",
       "    <tr>\n",
       "      <th>LogisticRegression</th>\n",
       "      <td>0.669481</td>\n",
       "    </tr>\n",
       "    <tr>\n",
       "      <th>XGBClassifier</th>\n",
       "      <td>0.572182</td>\n",
       "    </tr>\n",
       "    <tr>\n",
       "      <th>LGBMClassifier</th>\n",
       "      <td>0.601509</td>\n",
       "    </tr>\n",
       "  </tbody>\n",
       "</table>\n",
       "</div>"
      ],
      "text/plain": [
       "                               0\n",
       "RandomForestClassifier  0.584514\n",
       "DecisionTreeClassifier  0.522039\n",
       "SGDClassifier           0.660948\n",
       "SVC                     0.624741\n",
       "LogisticRegression      0.669481\n",
       "XGBClassifier           0.572182\n",
       "LGBMClassifier          0.601509"
      ]
     },
     "execution_count": 81,
     "metadata": {},
     "output_type": "execute_result"
    }
   ],
   "source": [
    "# Transformar os resultados em um dataframe \n",
    "resultados = pd.DataFrame(data=recall, index=model)\n",
    "resultados"
   ]
  },
  {
   "cell_type": "markdown",
   "metadata": {},
   "source": [
    "Após o teste inicial, identificamos os seguintes modelos com melhores resultados:\n",
    "\n",
    "* LogisticRegression\n",
    "* SGDClassifier\n",
    "* SVC (SupportVectorClassifier)\n",
    "\n",
    "--- \n",
    "\n",
    "**Analisando Tecnicamente**\n",
    "\n",
    "\n",
    "*LogisticRegression & SGDClassifier:*   \n",
    "\n",
    "* Ambos são modelos lineares.\n",
    "\n",
    "* A SGDClassifier é essencialmente uma versão otimizada da regressão logística (usa gradiente estocástico), mas pode suportar outras funções de perda (hinge, log, etc.).\n",
    "\n",
    "* Alta correlação entre eles - ótimo para baseline, mas pouca diversidade estrutural.\n",
    "\n",
    "*SVC:*\n",
    "\n",
    "* Modelo baseado em margens, forte para problemas não-lineares quando usado com kernels como RBF.\n",
    "\n",
    "* Pode dar mais diversidade comparado a modelos lineares, mas geralmente mais pesado computacionalmente e menos interpretável.\n",
    "\n",
    "*LGBMClassifier:*\n",
    "\n",
    "* Modelo de boosting, baseado em árvores → captura não linearidades e interações complexas.\n",
    "\n",
    "* Muito diferente dos modelos lineares, ótimo para churn, especialmente quando bem ajustado.\n",
    "\n",
    "*RandomForestClassifier:*\n",
    "\n",
    "* Também árvore, mas bagging em vez de boosting.\n",
    "\n",
    "* Teoricamente, menos flexível que LGBM, mas complementar.\n",
    "\n",
    "\n",
    "*XGBClassifier:* \n",
    "\n",
    "* Similar ao LGBM, mas ligeiras diferenças em otimização.\n",
    "\n",
    "--- \n",
    "\n",
    "**Diversidade de modelos: por que é importante?**\n",
    "\n",
    "* Combinar modelos muito semelhantes pode limitar ganhos.\n",
    "\n",
    "* Modelos com naturezas diferentes → maior chance de capturar padrões complementares.\n",
    "\n",
    "Sendo assim, vamos tomar uma decisão estratégica na hora de selecionar os modelos para a próxima etapa - Otimização de Hiperparâmetros\n",
    "\n",
    "Os modelos de escolha serão:\n",
    "\n",
    "* *LogisticRegression*\n",
    "    * Melhor Resultado\n",
    "    * Simples\n",
    "    * Rápido\n",
    "\n",
    "* *SVC:*\n",
    "    * O SGDClassifier é muito similar à LogisticRegression, e sua vantagem é performance em datasets grandes e velocidade.\n",
    "    * O SVC traz uma abordagem completamente diferente: capacidade natural de capturar não-linearidades complexas, o que enriquece muito a diversidade do seu portfólio de modelos.\n",
    "\n",
    "* *LGBMClassifier*\n",
    "    * Apesar de não ter o melhor recall, modelo robusto para otimização. Boa margem de crescimento com o tuning.\n",
    "\n",
    "\n"
   ]
  },
  {
   "cell_type": "markdown",
   "metadata": {},
   "source": [
    "### Otimização de Hiperparâmetros"
   ]
  },
  {
   "cell_type": "markdown",
   "metadata": {},
   "source": [
    "#### GridSearchCV ou RandomizedSearchCV ?\n",
    "\n",
    "**GridSearchCV**\n",
    "\n",
    "* Ideal quando:\n",
    "\n",
    "    * O espaço de busca é pequeno e bem definido (ex: 2-3 parâmetros com poucos valores cada).\n",
    "\n",
    "    * Você quer garantir que TODAS as combinações sejam testadas.\n",
    "\n",
    "    * Tempo/recursos não são problema.\n",
    "\n",
    "* Limitação:\n",
    "\n",
    "    * Cresce exponencialmente com mais parâmetros e combinações (combinatorial explosion).\n",
    "\n",
    "\n",
    "**RandomizedSearchCV**\n",
    "\n",
    "* Ideal quando:\n",
    "\n",
    "    * O espaço de busca é amplo ou contínuo (ex: C entre 0.001 e 1000).\n",
    "\n",
    "    * Nem todos os hiperparâmetros têm o mesmo peso de impacto (ex: penalty importa mais que max_iter).\n",
    "\n",
    "    * Você quer rapidamente explorar o espaço e encontrar boas soluções com menos custo computacional.\n",
    "\n",
    "    * Dados com ruído (como churn) → não há necessidade de testar exaustivamente tudo, já que pequenas variações nos hiperparâmetros não fazem tanta diferença.\n",
    "\n",
    "Dessa forma, utilizaremos o RandomizedSearchCV para otimização dos hiperparâmetros"
   ]
  },
  {
   "cell_type": "markdown",
   "metadata": {},
   "source": [
    "#### Logistic Regression"
   ]
  },
  {
   "cell_type": "markdown",
   "metadata": {},
   "source": [
    "Parâmetros importantes para LogisticRegression:\n",
    "\n",
    "* `C`\t\n",
    "    * Força da regularização (inverso da penalização L2 ou L1)\n",
    "\n",
    "* `penalty`\t\n",
    "    * Tipo de regularização (l1, l2, elasticnet, none)\n",
    "\n",
    "* `solver`\n",
    "    *\tAlgoritmo para otimizar (liblinear, saga, lbfgs)\n",
    "\n",
    "* `max_iter`\n",
    "    *  \tNúmero máximo de iterações\n",
    "\n",
    "* `class_weight`\n",
    "    *\tLida com desbalanceamento (balanced ou None)"
   ]
  },
  {
   "cell_type": "code",
   "execution_count": 87,
   "metadata": {},
   "outputs": [
    {
     "name": "stdout",
     "output_type": "stream",
     "text": [
      "Fitting 10 folds for each of 50 candidates, totalling 500 fits\n",
      "Melhores hiperparâmetros:  {'clf__C': np.float64(0.2551912674409519), 'clf__class_weight': None, 'clf__penalty': 'l1'}\n",
      "Melhor recall (Validação Cruzada): 0.6733\n"
     ]
    }
   ],
   "source": [
    "# Identificar colunas categóricas\n",
    "categorical_features = [i for i, col in enumerate(X.columns) if X[col].dtype == \"bool\"]\n",
    "\n",
    "# Pipeline com SMOTENC + Scaler + LogisticRegression\n",
    "pipeline = ImbPipeline(steps=[\n",
    "    (\"smote\", SMOTENC(categorical_features=categorical_features, random_state=42)),\n",
    "    (\"scaler\", StandardScaler()),\n",
    "    (\"clf\", LogisticRegression(solver=\"saga\", max_iter=5000, random_state=42))\n",
    "])\n",
    "\n",
    "# Parâmetros\n",
    "param_dist = {\n",
    "        'clf__penalty': ['l1', 'l2'],\n",
    "        'clf__C': uniform(0.001, 10),\n",
    "        'clf__class_weight': [None, 'balanced']\n",
    "    }\n",
    "\n",
    "\n",
    "# Cross-Validation\n",
    "kfold = StratifiedKFold(n_splits=10, shuffle=True, random_state=42)\n",
    "\n",
    "# RandomizedSearchCV\n",
    "search = RandomizedSearchCV(\n",
    "    estimator=pipeline,\n",
    "    param_distributions=param_dist,\n",
    "    n_iter=50,\n",
    "    scoring=\"recall\",\n",
    "    cv=kfold,\n",
    "    n_jobs=-1,\n",
    "    random_state=42,\n",
    "    verbose=1\n",
    ")\n",
    "\n",
    "# Treinando modelos\n",
    "search.fit(X_train, y_train)\n",
    "\n",
    "# Imprimindo resultados\n",
    "print(\"Melhores hiperparâmetros: \", search.best_params_)\n",
    "print(\"Melhor recall (Validação Cruzada): {:.4f}\".format(search.best_score_))"
   ]
  },
  {
   "cell_type": "markdown",
   "metadata": {},
   "source": [
    "1️⃣ penalty = l1:\n",
    "\n",
    "O modelo prefere regularização L1, que zera coeficientes menos relevantes, ajudando na seleção automática de variáveis.\n",
    "\n",
    "Pode simplificar a interpretação: algumas variáveis terão coeficiente 0.\n",
    "\n",
    "2️⃣ C ≈ 0.25:\n",
    "\n",
    "Um valor moderado de regularização (inverso de penalidade):\n",
    "\n",
    "👉 Mais baixo → mais forte a regularização.\n",
    "\n",
    "👉 Mais alto → menos penalização.\n",
    "\n",
    "Aqui o modelo buscou um equilíbrio entre underfitting e overfitting.\n",
    "\n",
    "3️⃣ class_weight = None:\n",
    "\n",
    "SMOTENC já balanceou as classes, então o class_weight='balanced' não agregou valor extra, e o modelo foi melhor sem ele.\n",
    "\n",
    "4️⃣ Recall CV (0.6733):\n",
    "\n",
    "Ótima consistência: muito próximo dos valores anteriores (~0.66–0.67) que já tínhamos visto.\n",
    "\n",
    "Isso mostra que otimizar não trouxe salto gigantesco, mas refinou e estabilizou.\n",
    "\n"
   ]
  },
  {
   "cell_type": "code",
   "execution_count": 91,
   "metadata": {},
   "outputs": [
    {
     "name": "stdout",
     "output_type": "stream",
     "text": [
      "              precision    recall  f1-score   support\n",
      "\n",
      "           0       0.89      0.81      0.85      1539\n",
      "           1       0.59      0.72      0.65       574\n",
      "\n",
      "    accuracy                           0.79      2113\n",
      "   macro avg       0.74      0.76      0.75      2113\n",
      "weighted avg       0.80      0.79      0.79      2113\n",
      "\n",
      "AUC: 0.7649\n"
     ]
    },
    {
     "data": {
      "image/png": "[encoded data removed]",
      "text/plain": [
       "<Figure size 640x480 with 2 Axes>"
      ]
     },
     "metadata": {},
     "output_type": "display_data"
    }
   ],
   "source": [
    "# Melhor modelo\n",
    "best_model = search.best_estimator_\n",
    "\n",
    "# Ajuste final no conjunto de treino\n",
    "best_model.fit(X_train, y_train)\n",
    "\n",
    "# Previsão no conjunto de testes\n",
    "y_pred = best_model.predict(X_test)\n",
    "\n",
    "# Avaliação dos resultados\n",
    "print(classification_report(y_test, y_pred))\n",
    "print(\"AUC: {:.4f}\".format(roc_auc_score(y_test, y_pred)))\n",
    "\n",
    "ConfusionMatrixDisplay.from_predictions(y_test, y_pred, cmap=\"Blues\")\n",
    "plt.title(\"Matriz de Confusão - Logistic Regression (Otimizado)\")\n",
    "plt.grid(False)\n",
    "plt.show()"
   ]
  },
  {
   "cell_type": "code",
   "execution_count": 93,
   "metadata": {},
   "outputs": [
    {
     "data": {
      "image/png": "[encoded data removed]",
      "text/plain": [
       "<Figure size 800x600 with 1 Axes>"
      ]
     },
     "metadata": {},
     "output_type": "display_data"
    }
   ],
   "source": [
    "# Gerar as probabilidades para a classe positiva (churn)\n",
    "y_pred_prob = best_model.predict_proba(X_test)[:, 1]\n",
    "\n",
    "# Calcular pontos da curva ROC\n",
    "fpr, tpr, thresholds = roc_curve(y_test, y_pred_prob)\n",
    "roc_auc = auc(fpr, tpr)\n",
    "\n",
    "# Plotar a curva ROC\n",
    "import matplotlib.pyplot as plt\n",
    "\n",
    "plt.figure(figsize=(8,6))\n",
    "plt.plot(fpr, tpr, color='blue', lw=2, label='ROC curve (AUC = %0.4f)' % roc_auc)\n",
    "plt.plot([0, 1], [0, 1], color='grey', lw=1, linestyle='--')\n",
    "plt.xlim([0.0, 1.0])\n",
    "plt.ylim([0.0, 1.05])\n",
    "plt.xlabel('Taxa de Falsos Positivos (False Positive Rate)')\n",
    "plt.ylabel('Taxa de Verdadeiros Positivos (True Positive Rate)')\n",
    "plt.title('Curva ROC - Logistic Regression (Otimizado)')\n",
    "plt.legend(loc=\"lower right\")\n",
    "plt.grid(True)\n",
    "plt.show()"
   ]
  },
  {
   "cell_type": "markdown",
   "metadata": {},
   "source": [
    "🧠 Interpretação técnica:\n",
    "1️⃣ Recall (classe 1): 0.72\n",
    "\n",
    "Muito próximo do recall de validação cruzada (~0.67), o que mostra boa generalização.\n",
    "\n",
    "🟢 Acertou 413 de 574 churns (~72%) ➔ sólido para churn prediction.\n",
    "\n",
    "2️⃣ Precisão (classe 1): 0.59\n",
    "\n",
    "1 falso positivo para cada 1.4 verdadeiro positivo.\n",
    "\n",
    "⚠️ Normal para churn: melhor pegar mais churns (mesmo errando alguns) do que deixar churn passar.\n",
    "\n",
    "3️⃣ Classe 0 (não churn):\n",
    "\n",
    "Muito forte: 1247 de 1539 acertos (81%).\n",
    "\n",
    "4️⃣ AUC: 0.7649\n",
    "\n",
    "Muito estável e bom. Em churn datasets, AUC entre 0.75–0.8 já indica um modelo robusto."
   ]
  },
  {
   "cell_type": "code",
   "execution_count": null,
   "metadata": {},
   "outputs": [],
   "source": []
  }
 ],
 "metadata": {
  "kernelspec": {
   "display_name": "dsnpvenv",
   "language": "python",
   "name": "python3"
  },
  "language_info": {
   "codemirror_mode": {
    "name": "ipython",
    "version": 3
   },
   "file_extension": ".py",
   "mimetype": "text/x-python",
   "name": "python",
   "nbconvert_exporter": "python",
   "pygments_lexer": "ipython3",
   "version": "3.12.7"
  }
 },
 "nbformat": 4,
 "nbformat_minor": 2
}
